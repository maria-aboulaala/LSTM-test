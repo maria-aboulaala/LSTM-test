{
  "nbformat": 4,
  "nbformat_minor": 0,
  "metadata": {
    "colab": {
      "name": "LSTM_on_stock_data_.ipynb",
      "provenance": []
    },
    "kernelspec": {
      "name": "python3",
      "display_name": "Python 3"
    },
    "language_info": {
      "name": "python"
    }
  },
  "cells": [
    {
      "cell_type": "code",
      "metadata": {
        "id": "tHyjM969en9N"
      },
      "source": [
        "from google.colab import drive"
      ],
      "execution_count": 13,
      "outputs": []
    },
    {
      "cell_type": "code",
      "metadata": {
        "colab": {
          "base_uri": "https://localhost:8080/",
          "height": 311
        },
        "id": "SU_yuslxe6sX",
        "outputId": "981c2c35-11cd-43b5-95f5-c97f49c2b49e"
      },
      "source": [
        "drive.mount(\"/content/gdrive\")"
      ],
      "execution_count": 14,
      "outputs": [
        {
          "output_type": "error",
          "ename": "MessageError",
          "evalue": "ignored",
          "traceback": [
            "\u001b[0;31m---------------------------------------------------------------------------\u001b[0m",
            "\u001b[0;31mMessageError\u001b[0m                              Traceback (most recent call last)",
            "\u001b[0;32m<ipython-input-14-315687914291>\u001b[0m in \u001b[0;36m<cell line: 1>\u001b[0;34m()\u001b[0m\n\u001b[0;32m----> 1\u001b[0;31m \u001b[0mdrive\u001b[0m\u001b[0;34m.\u001b[0m\u001b[0mmount\u001b[0m\u001b[0;34m(\u001b[0m\u001b[0;34m\"/content/gdrive\"\u001b[0m\u001b[0;34m)\u001b[0m\u001b[0;34m\u001b[0m\u001b[0;34m\u001b[0m\u001b[0m\n\u001b[0m",
            "\u001b[0;32m/usr/local/lib/python3.10/dist-packages/google/colab/drive.py\u001b[0m in \u001b[0;36mmount\u001b[0;34m(mountpoint, force_remount, timeout_ms, readonly)\u001b[0m\n\u001b[1;32m    101\u001b[0m \u001b[0;32mdef\u001b[0m \u001b[0mmount\u001b[0m\u001b[0;34m(\u001b[0m\u001b[0mmountpoint\u001b[0m\u001b[0;34m,\u001b[0m \u001b[0mforce_remount\u001b[0m\u001b[0;34m=\u001b[0m\u001b[0;32mFalse\u001b[0m\u001b[0;34m,\u001b[0m \u001b[0mtimeout_ms\u001b[0m\u001b[0;34m=\u001b[0m\u001b[0;36m120000\u001b[0m\u001b[0;34m,\u001b[0m \u001b[0mreadonly\u001b[0m\u001b[0;34m=\u001b[0m\u001b[0;32mFalse\u001b[0m\u001b[0;34m)\u001b[0m\u001b[0;34m:\u001b[0m\u001b[0;34m\u001b[0m\u001b[0;34m\u001b[0m\u001b[0m\n\u001b[1;32m    102\u001b[0m   \u001b[0;34m\"\"\"Mount your Google Drive at the specified mountpoint path.\"\"\"\u001b[0m\u001b[0;34m\u001b[0m\u001b[0;34m\u001b[0m\u001b[0m\n\u001b[0;32m--> 103\u001b[0;31m   return _mount(\n\u001b[0m\u001b[1;32m    104\u001b[0m       \u001b[0mmountpoint\u001b[0m\u001b[0;34m,\u001b[0m\u001b[0;34m\u001b[0m\u001b[0;34m\u001b[0m\u001b[0m\n\u001b[1;32m    105\u001b[0m       \u001b[0mforce_remount\u001b[0m\u001b[0;34m=\u001b[0m\u001b[0mforce_remount\u001b[0m\u001b[0;34m,\u001b[0m\u001b[0;34m\u001b[0m\u001b[0;34m\u001b[0m\u001b[0m\n",
            "\u001b[0;32m/usr/local/lib/python3.10/dist-packages/google/colab/drive.py\u001b[0m in \u001b[0;36m_mount\u001b[0;34m(mountpoint, force_remount, timeout_ms, ephemeral, readonly)\u001b[0m\n\u001b[1;32m    130\u001b[0m   )\n\u001b[1;32m    131\u001b[0m   \u001b[0;32mif\u001b[0m \u001b[0mephemeral\u001b[0m\u001b[0;34m:\u001b[0m\u001b[0;34m\u001b[0m\u001b[0;34m\u001b[0m\u001b[0m\n\u001b[0;32m--> 132\u001b[0;31m     _message.blocking_request(\n\u001b[0m\u001b[1;32m    133\u001b[0m         \u001b[0;34m'request_auth'\u001b[0m\u001b[0;34m,\u001b[0m \u001b[0mrequest\u001b[0m\u001b[0;34m=\u001b[0m\u001b[0;34m{\u001b[0m\u001b[0;34m'authType'\u001b[0m\u001b[0;34m:\u001b[0m \u001b[0;34m'dfs_ephemeral'\u001b[0m\u001b[0;34m}\u001b[0m\u001b[0;34m,\u001b[0m \u001b[0mtimeout_sec\u001b[0m\u001b[0;34m=\u001b[0m\u001b[0;32mNone\u001b[0m\u001b[0;34m\u001b[0m\u001b[0;34m\u001b[0m\u001b[0m\n\u001b[1;32m    134\u001b[0m     )\n",
            "\u001b[0;32m/usr/local/lib/python3.10/dist-packages/google/colab/_message.py\u001b[0m in \u001b[0;36mblocking_request\u001b[0;34m(request_type, request, timeout_sec, parent)\u001b[0m\n\u001b[1;32m    174\u001b[0m       \u001b[0mrequest_type\u001b[0m\u001b[0;34m,\u001b[0m \u001b[0mrequest\u001b[0m\u001b[0;34m,\u001b[0m \u001b[0mparent\u001b[0m\u001b[0;34m=\u001b[0m\u001b[0mparent\u001b[0m\u001b[0;34m,\u001b[0m \u001b[0mexpect_reply\u001b[0m\u001b[0;34m=\u001b[0m\u001b[0;32mTrue\u001b[0m\u001b[0;34m\u001b[0m\u001b[0;34m\u001b[0m\u001b[0m\n\u001b[1;32m    175\u001b[0m   )\n\u001b[0;32m--> 176\u001b[0;31m   \u001b[0;32mreturn\u001b[0m \u001b[0mread_reply_from_input\u001b[0m\u001b[0;34m(\u001b[0m\u001b[0mrequest_id\u001b[0m\u001b[0;34m,\u001b[0m \u001b[0mtimeout_sec\u001b[0m\u001b[0;34m)\u001b[0m\u001b[0;34m\u001b[0m\u001b[0;34m\u001b[0m\u001b[0m\n\u001b[0m",
            "\u001b[0;32m/usr/local/lib/python3.10/dist-packages/google/colab/_message.py\u001b[0m in \u001b[0;36mread_reply_from_input\u001b[0;34m(message_id, timeout_sec)\u001b[0m\n\u001b[1;32m    101\u001b[0m     ):\n\u001b[1;32m    102\u001b[0m       \u001b[0;32mif\u001b[0m \u001b[0;34m'error'\u001b[0m \u001b[0;32min\u001b[0m \u001b[0mreply\u001b[0m\u001b[0;34m:\u001b[0m\u001b[0;34m\u001b[0m\u001b[0;34m\u001b[0m\u001b[0m\n\u001b[0;32m--> 103\u001b[0;31m         \u001b[0;32mraise\u001b[0m \u001b[0mMessageError\u001b[0m\u001b[0;34m(\u001b[0m\u001b[0mreply\u001b[0m\u001b[0;34m[\u001b[0m\u001b[0;34m'error'\u001b[0m\u001b[0;34m]\u001b[0m\u001b[0;34m)\u001b[0m\u001b[0;34m\u001b[0m\u001b[0;34m\u001b[0m\u001b[0m\n\u001b[0m\u001b[1;32m    104\u001b[0m       \u001b[0;32mreturn\u001b[0m \u001b[0mreply\u001b[0m\u001b[0;34m.\u001b[0m\u001b[0mget\u001b[0m\u001b[0;34m(\u001b[0m\u001b[0;34m'data'\u001b[0m\u001b[0;34m,\u001b[0m \u001b[0;32mNone\u001b[0m\u001b[0;34m)\u001b[0m\u001b[0;34m\u001b[0m\u001b[0;34m\u001b[0m\u001b[0m\n\u001b[1;32m    105\u001b[0m \u001b[0;34m\u001b[0m\u001b[0m\n",
            "\u001b[0;31mMessageError\u001b[0m: Error: credential propagation was unsuccessful"
          ]
        }
      ]
    },
    {
      "cell_type": "code",
      "metadata": {
        "id": "EKZBOsxGe614",
        "outputId": "77028336-1a62-4211-ecfe-e7b77940c604",
        "colab": {
          "base_uri": "https://localhost:8080/"
        }
      },
      "source": [
        "!pip install python-binance\n",
        "!pip install configparser"
      ],
      "execution_count": 15,
      "outputs": [
        {
          "output_type": "stream",
          "name": "stdout",
          "text": [
            "Requirement already satisfied: python-binance in /usr/local/lib/python3.10/dist-packages (1.0.17)\n",
            "Requirement already satisfied: requests in /usr/local/lib/python3.10/dist-packages (from python-binance) (2.27.1)\n",
            "Requirement already satisfied: six in /usr/local/lib/python3.10/dist-packages (from python-binance) (1.16.0)\n",
            "Requirement already satisfied: dateparser in /usr/local/lib/python3.10/dist-packages (from python-binance) (1.1.8)\n",
            "Requirement already satisfied: aiohttp in /usr/local/lib/python3.10/dist-packages (from python-binance) (3.8.4)\n",
            "Requirement already satisfied: ujson in /usr/local/lib/python3.10/dist-packages (from python-binance) (5.8.0)\n",
            "Requirement already satisfied: websockets in /usr/local/lib/python3.10/dist-packages (from python-binance) (11.0.3)\n",
            "Requirement already satisfied: pycryptodome in /usr/local/lib/python3.10/dist-packages (from python-binance) (3.18.0)\n",
            "Requirement already satisfied: attrs>=17.3.0 in /usr/local/lib/python3.10/dist-packages (from aiohttp->python-binance) (23.1.0)\n",
            "Requirement already satisfied: charset-normalizer<4.0,>=2.0 in /usr/local/lib/python3.10/dist-packages (from aiohttp->python-binance) (2.0.12)\n",
            "Requirement already satisfied: multidict<7.0,>=4.5 in /usr/local/lib/python3.10/dist-packages (from aiohttp->python-binance) (6.0.4)\n",
            "Requirement already satisfied: async-timeout<5.0,>=4.0.0a3 in /usr/local/lib/python3.10/dist-packages (from aiohttp->python-binance) (4.0.2)\n",
            "Requirement already satisfied: yarl<2.0,>=1.0 in /usr/local/lib/python3.10/dist-packages (from aiohttp->python-binance) (1.9.2)\n",
            "Requirement already satisfied: frozenlist>=1.1.1 in /usr/local/lib/python3.10/dist-packages (from aiohttp->python-binance) (1.4.0)\n",
            "Requirement already satisfied: aiosignal>=1.1.2 in /usr/local/lib/python3.10/dist-packages (from aiohttp->python-binance) (1.3.1)\n",
            "Requirement already satisfied: python-dateutil in /usr/local/lib/python3.10/dist-packages (from dateparser->python-binance) (2.8.2)\n",
            "Requirement already satisfied: pytz in /usr/local/lib/python3.10/dist-packages (from dateparser->python-binance) (2022.7.1)\n",
            "Requirement already satisfied: regex!=2019.02.19,!=2021.8.27 in /usr/local/lib/python3.10/dist-packages (from dateparser->python-binance) (2022.10.31)\n",
            "Requirement already satisfied: tzlocal in /usr/local/lib/python3.10/dist-packages (from dateparser->python-binance) (5.0.1)\n",
            "Requirement already satisfied: urllib3<1.27,>=1.21.1 in /usr/local/lib/python3.10/dist-packages (from requests->python-binance) (1.26.16)\n",
            "Requirement already satisfied: certifi>=2017.4.17 in /usr/local/lib/python3.10/dist-packages (from requests->python-binance) (2023.5.7)\n",
            "Requirement already satisfied: idna<4,>=2.5 in /usr/local/lib/python3.10/dist-packages (from requests->python-binance) (3.4)\n",
            "Requirement already satisfied: configparser in /usr/local/lib/python3.10/dist-packages (6.0.0)\n"
          ]
        }
      ]
    },
    {
      "cell_type": "code",
      "metadata": {
        "id": "r6Uhf79le68F"
      },
      "source": [
        "import pandas as pd\n",
        "import numpy as np\n",
        "from binance.client import Client\n",
        "from binance import Client, ThreadedWebsocketManager\n",
        "from datetime import datetime, timedelta, date\n",
        "import matplotlib.pyplot as plt\n",
        "import configparser\n",
        "import matplotlib.pyplot as plt\n",
        "import time\n",
        "import math\n",
        "import os\n",
        "import io\n",
        "from sklearn.preprocessing import MinMaxScaler\n",
        "from sklearn.preprocessing import StandardScaler\n",
        "from keras.models import load_model\n",
        "from keras.models import Sequential\n",
        "from keras import optimizers\n",
        "from keras.callbacks import History\n",
        "from keras.models import Model\n",
        "from keras.layers import Dense, Dropout, LSTM, Input, Activation, concatenate\n",
        "from IPython.display import clear_output\n",
        "from datetime import date, timedelta\n",
        "import csv\n",
        "import warnings"
      ],
      "execution_count": 16,
      "outputs": []
    },
    {
      "cell_type": "code",
      "metadata": {
        "id": "1eGTzSDYe7Bh"
      },
      "source": [
        "\n",
        "\"\"\"Either the person enters the coin name or select from a scrolling bar containing all available coins \"\"\"\n",
        "\"\"\" Either the person enters the time interval or select from a scrolling bar containing all time intervals \"\"\"\n",
        "\"\"\" It'd be better if there's a bar to choose from for coins and time intervals separately \"\"\"\n",
        "\n",
        "\"\"\" available_coins_are = [\"BNBUSDT\", \"ETHUSDT\", \"ADAUSDT\", \"DOTUSDT\", \"BTCUSDT\", \"FTMUSDT\", \"DOGEUSDT\", \"LINKUSDT\", \"SUSHIUSDT\", \"SOLUSDT\",\n",
        "                 \"IOSTUSDT\", \"LTCUSDT\", \"XRPUSDT\", \"SXPUSDT\", \"MATICUSDT\", \"BCHUSDT\"] \"\"\"\n",
        "\n",
        "#coin = str(input(\"Enter coin name: \").upper())\n",
        "#time_interval = str(input(\"Enter time interval name e.g 5m for 5-minute: \").lower())\n",
        "\n",
        "coin = 'BTCUSDT'\n",
        "time_interval = '1m'\n",
        "#symbol = 'BTCUSDT'\n",
        "#interval = '1m' \"\"\"\n",
        "\n"
      ],
      "execution_count": 21,
      "outputs": []
    },
    {
      "cell_type": "code",
      "metadata": {
        "id": "vE9n7yZGe7Jd"
      },
      "source": [
        "\n",
        "\n",
        "def consume_data(symbol,interval):\n",
        "\n",
        "  symbol = str(symbol)\n",
        "  interval = str(interval)\n",
        "\n",
        "  TEST_API_KEY = 'cmC20L6OdOe6nfS4iD0T3aIYYbGh53G9nsz1kSO4pd5JsVtVbsycpvzxIwN89AEN'\n",
        "  TEST_SECRET_KEY = 'JjyurQGV0hcbsEhsdUQoaoaeA85kw33xRrEJywhOJfI6ZNUvT42RMkQK1ed59gyh'\n",
        "\n",
        "  client = Client(TEST_API_KEY, TEST_SECRET_KEY)\n",
        "  client.API_URL = 'https://testnet.binance.vision/api'  # To change endpoint URL for test account\n",
        "\n",
        "  # Preparing Start to End period for klines historical data\n",
        "\n",
        "  td=timedelta(-10)\n",
        "  time_now = datetime.now()\n",
        "  start1 = time_now + td\n",
        "  start = start1.strftime('%Y-%m-%d- %H:%M:%S')\n",
        "\n",
        "\n",
        "\n",
        "  td_end = timedelta(hours=1)\n",
        "  Current_Date = datetime.today() + td_end\n",
        "  end=Current_Date.strftime ('%Y-%m-%d- %H:%M:%S')\n",
        "\n",
        "\n",
        "  whole_data = []\n",
        "\n",
        "  klines = client.get_historical_klines(symbol=symbol, interval=interval, start_str=start, end_str=end)\n",
        "  #print(klines)\n",
        "\n",
        "  df = pd.DataFrame(klines)\n",
        "  whole_data.append(df)\n",
        "\n",
        "\n",
        "  #print(start)\n",
        "  #print(end)\n",
        "\n",
        "  df = df.rename(columns={0: 'Open time', 1: 'Open', 2: 'High', 3: 'Low', 4: 'Close', 5: 'Volume',\n",
        "                                          6: 'Close Time', 7: 'Qoute Asset Volume', 8: 'No of Trades', 9: 'Taker buy',\n",
        "                                          10: 'Taker buy quote asset volume', 11: 'Coin_Name'})\n",
        "\n",
        "  df.drop(\"Coin_Name\", axis = 1, inplace = True)\n",
        "\n",
        "  def convertTime(t):\n",
        "    t = int(t)\n",
        "    return datetime.fromtimestamp(t)\n",
        "\n",
        "\n",
        "  df[\"Open time\"]= df[\"Open time\"]/1000\n",
        "  df[\"Open time\"] = df[\"Open time\"].apply(convertTime)\n",
        "  df[\"Close Time\"]= df[\"Close Time\"]/1000\n",
        "  df[\"Close Time\"] = df[\"Close Time\"].apply(convertTime)\n",
        "\n",
        "  data = df\n",
        "\n",
        "  return data\n",
        "\n",
        "\n"
      ],
      "execution_count": 22,
      "outputs": []
    },
    {
      "cell_type": "code",
      "metadata": {
        "id": "TmFAjahciyD_",
        "outputId": "afcb2386-abf0-4f5b-a4d1-102e50a35fca",
        "colab": {
          "base_uri": "https://localhost:8080/",
          "height": 658
        }
      },
      "source": [
        "consume_data(coin, time_interval)"
      ],
      "execution_count": 23,
      "outputs": [
        {
          "output_type": "execute_result",
          "data": {
            "text/plain": [
              "                Open time            Open            High             Low  \\\n",
              "0     2023-07-08 21:38:00  30194.49000000  30194.49000000  30192.65000000   \n",
              "1     2023-07-08 21:39:00  30193.56000000  30193.57000000  30175.34000000   \n",
              "2     2023-07-08 21:40:00  30175.34000000  30175.66000000  30171.81000000   \n",
              "3     2023-07-08 21:41:00  30171.82000000  30171.82000000  30169.10000000   \n",
              "4     2023-07-08 21:42:00  30168.96000000  30168.96000000  30168.94000000   \n",
              "...                   ...             ...             ...             ...   \n",
              "14395 2023-07-18 21:33:00  29819.72000000  29821.52000000  29805.67000000   \n",
              "14396 2023-07-18 21:34:00  29805.67000000  29807.69000000  29804.35000000   \n",
              "14397 2023-07-18 21:35:00  29804.35000000  29810.20000000  29804.10000000   \n",
              "14398 2023-07-18 21:36:00  29808.99000000  29810.70000000  29808.85000000   \n",
              "14399 2023-07-18 21:37:00  29808.99000000  29817.75000000  29807.95000000   \n",
              "\n",
              "                Close      Volume          Close Time Qoute Asset Volume  \\\n",
              "0      30193.56000000  0.65447700 2023-07-08 21:38:59     19760.52280311   \n",
              "1      30175.34000000  1.96562800 2023-07-08 21:39:59     59324.93784383   \n",
              "2      30171.81000000  0.73702400 2023-07-08 21:40:59     22238.94311849   \n",
              "3      30169.10000000  0.12200000 2023-07-08 21:41:59      3680.68699764   \n",
              "4      30168.94000000  0.07853800 2023-07-08 21:42:59      2369.40968144   \n",
              "...               ...         ...                 ...                ...   \n",
              "14395  29805.67000000  3.39533400 2023-07-18 21:33:59    101222.71100816   \n",
              "14396  29804.36000000  0.75628700 2023-07-18 21:34:59     22542.09058773   \n",
              "14397  29809.00000000  2.42279300 2023-07-18 21:35:59     72215.68976806   \n",
              "14398  29809.00000000  0.84422400 2023-07-18 21:36:59     25166.01768725   \n",
              "14399  29817.75000000  2.03862600 2023-07-18 21:37:59     60777.13430662   \n",
              "\n",
              "       No of Trades   Taker buy Taker buy quote asset volume  \n",
              "0                15  0.51470400               15540.28841968  \n",
              "1                66  0.03261500                 984.35530036  \n",
              "2                31  0.07400700                2233.20107922  \n",
              "3                 6  0.00449400                 135.58401540  \n",
              "4                 5  0.00000000                   0.00000000  \n",
              "...             ...         ...                          ...  \n",
              "14395           140  0.64604700               19263.67957663  \n",
              "14396            70  0.61797600               18419.73973460  \n",
              "14397           115  1.49385500               44528.59712616  \n",
              "14398           101  0.77568600               23122.96927063  \n",
              "14399            73  1.72834500               51528.02206793  \n",
              "\n",
              "[14400 rows x 11 columns]"
            ],
            "text/html": [
              "\n",
              "\n",
              "  <div id=\"df-4ea9187f-a51d-4257-808e-bd2535f42536\">\n",
              "    <div class=\"colab-df-container\">\n",
              "      <div>\n",
              "<style scoped>\n",
              "    .dataframe tbody tr th:only-of-type {\n",
              "        vertical-align: middle;\n",
              "    }\n",
              "\n",
              "    .dataframe tbody tr th {\n",
              "        vertical-align: top;\n",
              "    }\n",
              "\n",
              "    .dataframe thead th {\n",
              "        text-align: right;\n",
              "    }\n",
              "</style>\n",
              "<table border=\"1\" class=\"dataframe\">\n",
              "  <thead>\n",
              "    <tr style=\"text-align: right;\">\n",
              "      <th></th>\n",
              "      <th>Open time</th>\n",
              "      <th>Open</th>\n",
              "      <th>High</th>\n",
              "      <th>Low</th>\n",
              "      <th>Close</th>\n",
              "      <th>Volume</th>\n",
              "      <th>Close Time</th>\n",
              "      <th>Qoute Asset Volume</th>\n",
              "      <th>No of Trades</th>\n",
              "      <th>Taker buy</th>\n",
              "      <th>Taker buy quote asset volume</th>\n",
              "    </tr>\n",
              "  </thead>\n",
              "  <tbody>\n",
              "    <tr>\n",
              "      <th>0</th>\n",
              "      <td>2023-07-08 21:38:00</td>\n",
              "      <td>30194.49000000</td>\n",
              "      <td>30194.49000000</td>\n",
              "      <td>30192.65000000</td>\n",
              "      <td>30193.56000000</td>\n",
              "      <td>0.65447700</td>\n",
              "      <td>2023-07-08 21:38:59</td>\n",
              "      <td>19760.52280311</td>\n",
              "      <td>15</td>\n",
              "      <td>0.51470400</td>\n",
              "      <td>15540.28841968</td>\n",
              "    </tr>\n",
              "    <tr>\n",
              "      <th>1</th>\n",
              "      <td>2023-07-08 21:39:00</td>\n",
              "      <td>30193.56000000</td>\n",
              "      <td>30193.57000000</td>\n",
              "      <td>30175.34000000</td>\n",
              "      <td>30175.34000000</td>\n",
              "      <td>1.96562800</td>\n",
              "      <td>2023-07-08 21:39:59</td>\n",
              "      <td>59324.93784383</td>\n",
              "      <td>66</td>\n",
              "      <td>0.03261500</td>\n",
              "      <td>984.35530036</td>\n",
              "    </tr>\n",
              "    <tr>\n",
              "      <th>2</th>\n",
              "      <td>2023-07-08 21:40:00</td>\n",
              "      <td>30175.34000000</td>\n",
              "      <td>30175.66000000</td>\n",
              "      <td>30171.81000000</td>\n",
              "      <td>30171.81000000</td>\n",
              "      <td>0.73702400</td>\n",
              "      <td>2023-07-08 21:40:59</td>\n",
              "      <td>22238.94311849</td>\n",
              "      <td>31</td>\n",
              "      <td>0.07400700</td>\n",
              "      <td>2233.20107922</td>\n",
              "    </tr>\n",
              "    <tr>\n",
              "      <th>3</th>\n",
              "      <td>2023-07-08 21:41:00</td>\n",
              "      <td>30171.82000000</td>\n",
              "      <td>30171.82000000</td>\n",
              "      <td>30169.10000000</td>\n",
              "      <td>30169.10000000</td>\n",
              "      <td>0.12200000</td>\n",
              "      <td>2023-07-08 21:41:59</td>\n",
              "      <td>3680.68699764</td>\n",
              "      <td>6</td>\n",
              "      <td>0.00449400</td>\n",
              "      <td>135.58401540</td>\n",
              "    </tr>\n",
              "    <tr>\n",
              "      <th>4</th>\n",
              "      <td>2023-07-08 21:42:00</td>\n",
              "      <td>30168.96000000</td>\n",
              "      <td>30168.96000000</td>\n",
              "      <td>30168.94000000</td>\n",
              "      <td>30168.94000000</td>\n",
              "      <td>0.07853800</td>\n",
              "      <td>2023-07-08 21:42:59</td>\n",
              "      <td>2369.40968144</td>\n",
              "      <td>5</td>\n",
              "      <td>0.00000000</td>\n",
              "      <td>0.00000000</td>\n",
              "    </tr>\n",
              "    <tr>\n",
              "      <th>...</th>\n",
              "      <td>...</td>\n",
              "      <td>...</td>\n",
              "      <td>...</td>\n",
              "      <td>...</td>\n",
              "      <td>...</td>\n",
              "      <td>...</td>\n",
              "      <td>...</td>\n",
              "      <td>...</td>\n",
              "      <td>...</td>\n",
              "      <td>...</td>\n",
              "      <td>...</td>\n",
              "    </tr>\n",
              "    <tr>\n",
              "      <th>14395</th>\n",
              "      <td>2023-07-18 21:33:00</td>\n",
              "      <td>29819.72000000</td>\n",
              "      <td>29821.52000000</td>\n",
              "      <td>29805.67000000</td>\n",
              "      <td>29805.67000000</td>\n",
              "      <td>3.39533400</td>\n",
              "      <td>2023-07-18 21:33:59</td>\n",
              "      <td>101222.71100816</td>\n",
              "      <td>140</td>\n",
              "      <td>0.64604700</td>\n",
              "      <td>19263.67957663</td>\n",
              "    </tr>\n",
              "    <tr>\n",
              "      <th>14396</th>\n",
              "      <td>2023-07-18 21:34:00</td>\n",
              "      <td>29805.67000000</td>\n",
              "      <td>29807.69000000</td>\n",
              "      <td>29804.35000000</td>\n",
              "      <td>29804.36000000</td>\n",
              "      <td>0.75628700</td>\n",
              "      <td>2023-07-18 21:34:59</td>\n",
              "      <td>22542.09058773</td>\n",
              "      <td>70</td>\n",
              "      <td>0.61797600</td>\n",
              "      <td>18419.73973460</td>\n",
              "    </tr>\n",
              "    <tr>\n",
              "      <th>14397</th>\n",
              "      <td>2023-07-18 21:35:00</td>\n",
              "      <td>29804.35000000</td>\n",
              "      <td>29810.20000000</td>\n",
              "      <td>29804.10000000</td>\n",
              "      <td>29809.00000000</td>\n",
              "      <td>2.42279300</td>\n",
              "      <td>2023-07-18 21:35:59</td>\n",
              "      <td>72215.68976806</td>\n",
              "      <td>115</td>\n",
              "      <td>1.49385500</td>\n",
              "      <td>44528.59712616</td>\n",
              "    </tr>\n",
              "    <tr>\n",
              "      <th>14398</th>\n",
              "      <td>2023-07-18 21:36:00</td>\n",
              "      <td>29808.99000000</td>\n",
              "      <td>29810.70000000</td>\n",
              "      <td>29808.85000000</td>\n",
              "      <td>29809.00000000</td>\n",
              "      <td>0.84422400</td>\n",
              "      <td>2023-07-18 21:36:59</td>\n",
              "      <td>25166.01768725</td>\n",
              "      <td>101</td>\n",
              "      <td>0.77568600</td>\n",
              "      <td>23122.96927063</td>\n",
              "    </tr>\n",
              "    <tr>\n",
              "      <th>14399</th>\n",
              "      <td>2023-07-18 21:37:00</td>\n",
              "      <td>29808.99000000</td>\n",
              "      <td>29817.75000000</td>\n",
              "      <td>29807.95000000</td>\n",
              "      <td>29817.75000000</td>\n",
              "      <td>2.03862600</td>\n",
              "      <td>2023-07-18 21:37:59</td>\n",
              "      <td>60777.13430662</td>\n",
              "      <td>73</td>\n",
              "      <td>1.72834500</td>\n",
              "      <td>51528.02206793</td>\n",
              "    </tr>\n",
              "  </tbody>\n",
              "</table>\n",
              "<p>14400 rows × 11 columns</p>\n",
              "</div>\n",
              "      <button class=\"colab-df-convert\" onclick=\"convertToInteractive('df-4ea9187f-a51d-4257-808e-bd2535f42536')\"\n",
              "              title=\"Convert this dataframe to an interactive table.\"\n",
              "              style=\"display:none;\">\n",
              "\n",
              "  <svg xmlns=\"http://www.w3.org/2000/svg\" height=\"24px\"viewBox=\"0 0 24 24\"\n",
              "       width=\"24px\">\n",
              "    <path d=\"M0 0h24v24H0V0z\" fill=\"none\"/>\n",
              "    <path d=\"M18.56 5.44l.94 2.06.94-2.06 2.06-.94-2.06-.94-.94-2.06-.94 2.06-2.06.94zm-11 1L8.5 8.5l.94-2.06 2.06-.94-2.06-.94L8.5 2.5l-.94 2.06-2.06.94zm10 10l.94 2.06.94-2.06 2.06-.94-2.06-.94-.94-2.06-.94 2.06-2.06.94z\"/><path d=\"M17.41 7.96l-1.37-1.37c-.4-.4-.92-.59-1.43-.59-.52 0-1.04.2-1.43.59L10.3 9.45l-7.72 7.72c-.78.78-.78 2.05 0 2.83L4 21.41c.39.39.9.59 1.41.59.51 0 1.02-.2 1.41-.59l7.78-7.78 2.81-2.81c.8-.78.8-2.07 0-2.86zM5.41 20L4 18.59l7.72-7.72 1.47 1.35L5.41 20z\"/>\n",
              "  </svg>\n",
              "      </button>\n",
              "\n",
              "\n",
              "\n",
              "    <div id=\"df-cca5e0a4-e921-4aae-a5f5-9a6ee863660a\">\n",
              "      <button class=\"colab-df-quickchart\" onclick=\"quickchart('df-cca5e0a4-e921-4aae-a5f5-9a6ee863660a')\"\n",
              "              title=\"Suggest charts.\"\n",
              "              style=\"display:none;\">\n",
              "\n",
              "<svg xmlns=\"http://www.w3.org/2000/svg\" height=\"24px\"viewBox=\"0 0 24 24\"\n",
              "     width=\"24px\">\n",
              "    <g>\n",
              "        <path d=\"M19 3H5c-1.1 0-2 .9-2 2v14c0 1.1.9 2 2 2h14c1.1 0 2-.9 2-2V5c0-1.1-.9-2-2-2zM9 17H7v-7h2v7zm4 0h-2V7h2v10zm4 0h-2v-4h2v4z\"/>\n",
              "    </g>\n",
              "</svg>\n",
              "      </button>\n",
              "    </div>\n",
              "\n",
              "<style>\n",
              "  .colab-df-quickchart {\n",
              "    background-color: #E8F0FE;\n",
              "    border: none;\n",
              "    border-radius: 50%;\n",
              "    cursor: pointer;\n",
              "    display: none;\n",
              "    fill: #1967D2;\n",
              "    height: 32px;\n",
              "    padding: 0 0 0 0;\n",
              "    width: 32px;\n",
              "  }\n",
              "\n",
              "  .colab-df-quickchart:hover {\n",
              "    background-color: #E2EBFA;\n",
              "    box-shadow: 0px 1px 2px rgba(60, 64, 67, 0.3), 0px 1px 3px 1px rgba(60, 64, 67, 0.15);\n",
              "    fill: #174EA6;\n",
              "  }\n",
              "\n",
              "  [theme=dark] .colab-df-quickchart {\n",
              "    background-color: #3B4455;\n",
              "    fill: #D2E3FC;\n",
              "  }\n",
              "\n",
              "  [theme=dark] .colab-df-quickchart:hover {\n",
              "    background-color: #434B5C;\n",
              "    box-shadow: 0px 1px 3px 1px rgba(0, 0, 0, 0.15);\n",
              "    filter: drop-shadow(0px 1px 2px rgba(0, 0, 0, 0.3));\n",
              "    fill: #FFFFFF;\n",
              "  }\n",
              "</style>\n",
              "\n",
              "    <script>\n",
              "      async function quickchart(key) {\n",
              "        const containerElement = document.querySelector('#' + key);\n",
              "        const charts = await google.colab.kernel.invokeFunction(\n",
              "            'suggestCharts', [key], {});\n",
              "      }\n",
              "    </script>\n",
              "\n",
              "      <script>\n",
              "\n",
              "function displayQuickchartButton(domScope) {\n",
              "  let quickchartButtonEl =\n",
              "    domScope.querySelector('#df-cca5e0a4-e921-4aae-a5f5-9a6ee863660a button.colab-df-quickchart');\n",
              "  quickchartButtonEl.style.display =\n",
              "    google.colab.kernel.accessAllowed ? 'block' : 'none';\n",
              "}\n",
              "\n",
              "        displayQuickchartButton(document);\n",
              "      </script>\n",
              "      <style>\n",
              "    .colab-df-container {\n",
              "      display:flex;\n",
              "      flex-wrap:wrap;\n",
              "      gap: 12px;\n",
              "    }\n",
              "\n",
              "    .colab-df-convert {\n",
              "      background-color: #E8F0FE;\n",
              "      border: none;\n",
              "      border-radius: 50%;\n",
              "      cursor: pointer;\n",
              "      display: none;\n",
              "      fill: #1967D2;\n",
              "      height: 32px;\n",
              "      padding: 0 0 0 0;\n",
              "      width: 32px;\n",
              "    }\n",
              "\n",
              "    .colab-df-convert:hover {\n",
              "      background-color: #E2EBFA;\n",
              "      box-shadow: 0px 1px 2px rgba(60, 64, 67, 0.3), 0px 1px 3px 1px rgba(60, 64, 67, 0.15);\n",
              "      fill: #174EA6;\n",
              "    }\n",
              "\n",
              "    [theme=dark] .colab-df-convert {\n",
              "      background-color: #3B4455;\n",
              "      fill: #D2E3FC;\n",
              "    }\n",
              "\n",
              "    [theme=dark] .colab-df-convert:hover {\n",
              "      background-color: #434B5C;\n",
              "      box-shadow: 0px 1px 3px 1px rgba(0, 0, 0, 0.15);\n",
              "      filter: drop-shadow(0px 1px 2px rgba(0, 0, 0, 0.3));\n",
              "      fill: #FFFFFF;\n",
              "    }\n",
              "  </style>\n",
              "\n",
              "      <script>\n",
              "        const buttonEl =\n",
              "          document.querySelector('#df-4ea9187f-a51d-4257-808e-bd2535f42536 button.colab-df-convert');\n",
              "        buttonEl.style.display =\n",
              "          google.colab.kernel.accessAllowed ? 'block' : 'none';\n",
              "\n",
              "        async function convertToInteractive(key) {\n",
              "          const element = document.querySelector('#df-4ea9187f-a51d-4257-808e-bd2535f42536');\n",
              "          const dataTable =\n",
              "            await google.colab.kernel.invokeFunction('convertToInteractive',\n",
              "                                                     [key], {});\n",
              "          if (!dataTable) return;\n",
              "\n",
              "          const docLinkHtml = 'Like what you see? Visit the ' +\n",
              "            '<a target=\"_blank\" href=https://colab.research.google.com/notebooks/data_table.ipynb>data table notebook</a>'\n",
              "            + ' to learn more about interactive tables.';\n",
              "          element.innerHTML = '';\n",
              "          dataTable['output_type'] = 'display_data';\n",
              "          await google.colab.output.renderOutput(dataTable, element);\n",
              "          const docLink = document.createElement('div');\n",
              "          docLink.innerHTML = docLinkHtml;\n",
              "          element.appendChild(docLink);\n",
              "        }\n",
              "      </script>\n",
              "    </div>\n",
              "  </div>\n"
            ]
          },
          "metadata": {},
          "execution_count": 23
        }
      ]
    },
    {
      "cell_type": "code",
      "metadata": {
        "id": "NMBqyGTPi0ZZ"
      },
      "source": [],
      "execution_count": 23,
      "outputs": []
    },
    {
      "cell_type": "code",
      "metadata": {
        "id": "hG_7xexGls1Q"
      },
      "source": [
        "\"\"\" Using LSTM model \"\""
      ],
      "execution_count": null,
      "outputs": []
    },
    {
      "cell_type": "code",
      "metadata": {
        "id": "eHr9CO0Got0o"
      },
      "source": [
        "\n",
        "\n",
        "data = consume_data(coin, time_interval)\n",
        "\n",
        "#Train-Test split for time-series\n",
        "\n",
        "test_ratio = 0.2\n",
        "training_ratio = 1 - test_ratio\n",
        "\n",
        "train_size = int(training_ratio * len(data))\n",
        "test_size = int(test_ratio * len(data))\n",
        "#print(\"train_size: \" + str(train_size))\n",
        "#print(\"test_size: \" + str(test_size))\n",
        "\n",
        "train = data[:train_size][['Close Time', 'Close']]\n",
        "test = data[train_size:][['Close Time', 'Close']]\n",
        "\n",
        "\n",
        "# Split the time-series data into training seq X and output value Y\n",
        "def extract_seqX_outcomeY(dataset, N, offset):\n",
        "    \"\"\"\n",
        "    Split time-series into training sequence X and outcome value Y\n",
        "    Args:\n",
        "        data - dataset\n",
        "        N - window size, e.g., 50 for 50 days of historical stock prices\n",
        "        offset - position to start the split\n",
        "    \"\"\"\n",
        "    X, y = [], []\n",
        "\n",
        "    for i in range(offset, len(dataset)):\n",
        "        X.append(dataset[i-N:i])\n",
        "        y.append(dataset[i])\n",
        "\n",
        "    return np.array(X), np.array(y)"
      ],
      "execution_count": 24,
      "outputs": []
    },
    {
      "cell_type": "code",
      "metadata": {
        "id": "mTQ9LRI7ltRW"
      },
      "source": [],
      "execution_count": null,
      "outputs": []
    },
    {
      "cell_type": "code",
      "metadata": {
        "id": "CIJEzWYRTq0r"
      },
      "source": [],
      "execution_count": null,
      "outputs": []
    },
    {
      "cell_type": "code",
      "metadata": {
        "id": "yE7NISQCj2gT"
      },
      "source": [
        "layer_units = 50\n",
        "window_size = 50\n",
        "optimizer = 50\n",
        "cur_epochs = 15\n",
        "cur_batch_size = 20\n",
        "\n",
        "cur_LSTM_pars = {'units': layer_units,\n",
        "                     'optimizer': optimizer,\n",
        "                     'batch_size': cur_batch_size,\n",
        "                     'epochs': cur_epochs\n",
        "                     }\n",
        "\n",
        "from sklearn.preprocessing import StandardScaler\n",
        "\n",
        "scaler = StandardScaler()\n",
        "scaled_data = scaler.fit_transform(data[['Close']])\n",
        "scaled_data_train = scaled_data[:train.shape[0]]\n",
        "\n",
        "# Using past 50 days’ stock prices for our training to predict the 51th day's closing price.\n",
        "X_train, y_train = extract_seqX_outcomeY (scaled_data_train, window_size, window_size)\n",
        "\n",
        ""
      ],
      "execution_count": 25,
      "outputs": []
    },
    {
      "cell_type": "code",
      "metadata": {
        "id": "jFW6ig45j2mP",
        "outputId": "fb1030b4-d130-4293-be79-52f618581ff6",
        "colab": {
          "base_uri": "https://localhost:8080/",
          "height": 720
        }
      },
      "source": [
        "# Building LSTM model\n",
        "\n",
        "def Run_LSTM(X_train, layer_units=layer_units):\n",
        "    inp = Input(shape=(X_train.shape[1], 1))\n",
        "\n",
        "    x = LSTM(units=layer_units, return_sequences=True)(inp)\n",
        "    x = LSTM(units=layer_units)(x)\n",
        "    out = Dense(1, activation='linear')(x)\n",
        "    model = Model(inp, out)\n",
        "\n",
        "    model.compile(loss = 'mean_squared_error', optimizer = 'adam')\n",
        "\n",
        "    return model\n",
        "\n",
        "model = Run_LSTM(X_train, layer_units=layer_units)\n",
        "\n",
        "history = model.fit(X_train, y_train, epochs=cur_epochs, batch_size=cur_batch_size,\n",
        "                    verbose=1, validation_split=0.1, shuffle=True)\n",
        "\n",
        "history.save('lstm_on_stock_data_model.h5')"
      ],
      "execution_count": 26,
      "outputs": [
        {
          "output_type": "stream",
          "name": "stdout",
          "text": [
            "Epoch 1/15\n",
            "517/517 [==============================] - 35s 58ms/step - loss: 0.0171 - val_loss: 0.0018\n",
            "Epoch 2/15\n",
            "517/517 [==============================] - 29s 57ms/step - loss: 0.0053 - val_loss: 0.0021\n",
            "Epoch 3/15\n",
            "517/517 [==============================] - 29s 56ms/step - loss: 0.0040 - val_loss: 0.0011\n",
            "Epoch 4/15\n",
            "517/517 [==============================] - 29s 57ms/step - loss: 0.0034 - val_loss: 0.0011\n",
            "Epoch 5/15\n",
            "517/517 [==============================] - 28s 54ms/step - loss: 0.0029 - val_loss: 7.4486e-04\n",
            "Epoch 6/15\n",
            "517/517 [==============================] - 28s 54ms/step - loss: 0.0026 - val_loss: 6.2534e-04\n",
            "Epoch 7/15\n",
            "517/517 [==============================] - 28s 54ms/step - loss: 0.0023 - val_loss: 6.1786e-04\n",
            "Epoch 8/15\n",
            "517/517 [==============================] - 30s 58ms/step - loss: 0.0022 - val_loss: 4.5946e-04\n",
            "Epoch 9/15\n",
            "517/517 [==============================] - 28s 54ms/step - loss: 0.0022 - val_loss: 4.7788e-04\n",
            "Epoch 10/15\n",
            "517/517 [==============================] - 28s 55ms/step - loss: 0.0023 - val_loss: 4.9051e-04\n",
            "Epoch 11/15\n",
            "517/517 [==============================] - 28s 54ms/step - loss: 0.0022 - val_loss: 5.3488e-04\n",
            "Epoch 12/15\n",
            "517/517 [==============================] - 28s 54ms/step - loss: 0.0022 - val_loss: 4.5733e-04\n",
            "Epoch 13/15\n",
            "517/517 [==============================] - 28s 54ms/step - loss: 0.0020 - val_loss: 9.3495e-04\n",
            "Epoch 14/15\n",
            "517/517 [==============================] - 31s 60ms/step - loss: 0.0021 - val_loss: 4.4567e-04\n",
            "Epoch 15/15\n",
            "517/517 [==============================] - 28s 55ms/step - loss: 0.0020 - val_loss: 4.4119e-04\n"
          ]
        },
        {
          "output_type": "error",
          "ename": "AttributeError",
          "evalue": "ignored",
          "traceback": [
            "\u001b[0;31m---------------------------------------------------------------------------\u001b[0m",
            "\u001b[0;31mAttributeError\u001b[0m                            Traceback (most recent call last)",
            "\u001b[0;32m<ipython-input-26-3b061376c475>\u001b[0m in \u001b[0;36m<cell line: 20>\u001b[0;34m()\u001b[0m\n\u001b[1;32m     18\u001b[0m                     verbose=1, validation_split=0.1, shuffle=True)\n\u001b[1;32m     19\u001b[0m \u001b[0;34m\u001b[0m\u001b[0m\n\u001b[0;32m---> 20\u001b[0;31m \u001b[0mhistory\u001b[0m\u001b[0;34m.\u001b[0m\u001b[0msave\u001b[0m\u001b[0;34m(\u001b[0m\u001b[0;34m'lstm_on_stock_data_model.h5'\u001b[0m\u001b[0;34m)\u001b[0m\u001b[0;34m\u001b[0m\u001b[0;34m\u001b[0m\u001b[0m\n\u001b[0m",
            "\u001b[0;31mAttributeError\u001b[0m: 'History' object has no attribute 'save'"
          ]
        }
      ]
    },
    {
      "cell_type": "code",
      "metadata": {
        "id": "gIuJMip-iyWK",
        "outputId": "2d85b02c-0797-43d3-a3f0-463913e0594e",
        "colab": {
          "base_uri": "https://localhost:8080/"
        }
      },
      "source": [
        "# Predicting stock prices using past window_size stock prices\n",
        "\n",
        "def preprocess_testdat(data=data, scaler=scaler, window_size=window_size, test=test):\n",
        "    raw = data['Close'][len(data) - len(test) - window_size:].values\n",
        "    raw = raw.reshape(-1,1)\n",
        "    raw = scaler.transform(raw)\n",
        "\n",
        "    X_test = []\n",
        "    for i in range(window_size, raw.shape[0]):\n",
        "        X_test.append(raw[i-window_size:i, 0])\n",
        "\n",
        "    X_test = np.array(X_test)\n",
        "\n",
        "    X_test = np.reshape(X_test, (X_test.shape[0], X_test.shape[1], 1))\n",
        "    return X_test\n",
        "\n",
        "X_test = preprocess_testdat()\n",
        "\n",
        "predicted_price_ = model.predict(X_test)\n",
        "predicted_price = scaler.inverse_transform(predicted_price_)\n",
        "\n",
        "# Plot predicted price vs actual closing price\n",
        "test['Predictions_lstm'] = predicted_price"
      ],
      "execution_count": 27,
      "outputs": [
        {
          "output_type": "stream",
          "name": "stderr",
          "text": [
            "/usr/local/lib/python3.10/dist-packages/sklearn/base.py:439: UserWarning: X does not have valid feature names, but StandardScaler was fitted with feature names\n",
            "  warnings.warn(\n"
          ]
        },
        {
          "output_type": "stream",
          "name": "stdout",
          "text": [
            "90/90 [==============================] - 3s 21ms/step\n"
          ]
        }
      ]
    },
    {
      "cell_type": "code",
      "source": [
        "from sklearn.metrics import accuracy_score\n",
        "\n",
        "# Assuming y_true contains the true labels and y_pred contains the predicted labels\n",
        "accuracy = accuracy_score( y_train, predicted_price)\n",
        "print(f\"Accuracy: {accuracy}\")\n"
      ],
      "metadata": {
        "id": "88fYZqVrCUK3",
        "outputId": "95d8f589-027b-46e5-972d-b19c15a59ba6",
        "colab": {
          "base_uri": "https://localhost:8080/",
          "height": 363
        }
      },
      "execution_count": 34,
      "outputs": [
        {
          "output_type": "error",
          "ename": "ValueError",
          "evalue": "ignored",
          "traceback": [
            "\u001b[0;31m---------------------------------------------------------------------------\u001b[0m",
            "\u001b[0;31mValueError\u001b[0m                                Traceback (most recent call last)",
            "\u001b[0;32m<ipython-input-34-e57474bc631b>\u001b[0m in \u001b[0;36m<cell line: 4>\u001b[0;34m()\u001b[0m\n\u001b[1;32m      2\u001b[0m \u001b[0;34m\u001b[0m\u001b[0m\n\u001b[1;32m      3\u001b[0m \u001b[0;31m# Assuming y_true contains the true labels and y_pred contains the predicted labels\u001b[0m\u001b[0;34m\u001b[0m\u001b[0;34m\u001b[0m\u001b[0m\n\u001b[0;32m----> 4\u001b[0;31m \u001b[0maccuracy\u001b[0m \u001b[0;34m=\u001b[0m \u001b[0maccuracy_score\u001b[0m\u001b[0;34m(\u001b[0m \u001b[0my_train\u001b[0m\u001b[0;34m,\u001b[0m \u001b[0mpredicted_price\u001b[0m\u001b[0;34m)\u001b[0m\u001b[0;34m\u001b[0m\u001b[0;34m\u001b[0m\u001b[0m\n\u001b[0m\u001b[1;32m      5\u001b[0m \u001b[0mprint\u001b[0m\u001b[0;34m(\u001b[0m\u001b[0;34mf\"Accuracy: {accuracy}\"\u001b[0m\u001b[0;34m)\u001b[0m\u001b[0;34m\u001b[0m\u001b[0;34m\u001b[0m\u001b[0m\n",
            "\u001b[0;32m/usr/local/lib/python3.10/dist-packages/sklearn/utils/_param_validation.py\u001b[0m in \u001b[0;36mwrapper\u001b[0;34m(*args, **kwargs)\u001b[0m\n\u001b[1;32m    190\u001b[0m \u001b[0;34m\u001b[0m\u001b[0m\n\u001b[1;32m    191\u001b[0m             \u001b[0;32mtry\u001b[0m\u001b[0;34m:\u001b[0m\u001b[0;34m\u001b[0m\u001b[0;34m\u001b[0m\u001b[0m\n\u001b[0;32m--> 192\u001b[0;31m                 \u001b[0;32mreturn\u001b[0m \u001b[0mfunc\u001b[0m\u001b[0;34m(\u001b[0m\u001b[0;34m*\u001b[0m\u001b[0margs\u001b[0m\u001b[0;34m,\u001b[0m \u001b[0;34m**\u001b[0m\u001b[0mkwargs\u001b[0m\u001b[0;34m)\u001b[0m\u001b[0;34m\u001b[0m\u001b[0;34m\u001b[0m\u001b[0m\n\u001b[0m\u001b[1;32m    193\u001b[0m             \u001b[0;32mexcept\u001b[0m \u001b[0mInvalidParameterError\u001b[0m \u001b[0;32mas\u001b[0m \u001b[0me\u001b[0m\u001b[0;34m:\u001b[0m\u001b[0;34m\u001b[0m\u001b[0;34m\u001b[0m\u001b[0m\n\u001b[1;32m    194\u001b[0m                 \u001b[0;31m# When the function is just a wrapper around an estimator, we allow\u001b[0m\u001b[0;34m\u001b[0m\u001b[0;34m\u001b[0m\u001b[0m\n",
            "\u001b[0;32m/usr/local/lib/python3.10/dist-packages/sklearn/metrics/_classification.py\u001b[0m in \u001b[0;36maccuracy_score\u001b[0;34m(y_true, y_pred, normalize, sample_weight)\u001b[0m\n\u001b[1;32m    219\u001b[0m \u001b[0;34m\u001b[0m\u001b[0m\n\u001b[1;32m    220\u001b[0m     \u001b[0;31m# Compute accuracy for each possible representation\u001b[0m\u001b[0;34m\u001b[0m\u001b[0;34m\u001b[0m\u001b[0m\n\u001b[0;32m--> 221\u001b[0;31m     \u001b[0my_type\u001b[0m\u001b[0;34m,\u001b[0m \u001b[0my_true\u001b[0m\u001b[0;34m,\u001b[0m \u001b[0my_pred\u001b[0m \u001b[0;34m=\u001b[0m \u001b[0m_check_targets\u001b[0m\u001b[0;34m(\u001b[0m\u001b[0my_true\u001b[0m\u001b[0;34m,\u001b[0m \u001b[0my_pred\u001b[0m\u001b[0;34m)\u001b[0m\u001b[0;34m\u001b[0m\u001b[0;34m\u001b[0m\u001b[0m\n\u001b[0m\u001b[1;32m    222\u001b[0m     \u001b[0mcheck_consistent_length\u001b[0m\u001b[0;34m(\u001b[0m\u001b[0my_true\u001b[0m\u001b[0;34m,\u001b[0m \u001b[0my_pred\u001b[0m\u001b[0;34m,\u001b[0m \u001b[0msample_weight\u001b[0m\u001b[0;34m)\u001b[0m\u001b[0;34m\u001b[0m\u001b[0;34m\u001b[0m\u001b[0m\n\u001b[1;32m    223\u001b[0m     \u001b[0;32mif\u001b[0m \u001b[0my_type\u001b[0m\u001b[0;34m.\u001b[0m\u001b[0mstartswith\u001b[0m\u001b[0;34m(\u001b[0m\u001b[0;34m\"multilabel\"\u001b[0m\u001b[0;34m)\u001b[0m\u001b[0;34m:\u001b[0m\u001b[0;34m\u001b[0m\u001b[0;34m\u001b[0m\u001b[0m\n",
            "\u001b[0;32m/usr/local/lib/python3.10/dist-packages/sklearn/metrics/_classification.py\u001b[0m in \u001b[0;36m_check_targets\u001b[0;34m(y_true, y_pred)\u001b[0m\n\u001b[1;32m     84\u001b[0m     \u001b[0my_pred\u001b[0m \u001b[0;34m:\u001b[0m \u001b[0marray\u001b[0m \u001b[0;32mor\u001b[0m \u001b[0mindicator\u001b[0m \u001b[0mmatrix\u001b[0m\u001b[0;34m\u001b[0m\u001b[0;34m\u001b[0m\u001b[0m\n\u001b[1;32m     85\u001b[0m     \"\"\"\n\u001b[0;32m---> 86\u001b[0;31m     \u001b[0mcheck_consistent_length\u001b[0m\u001b[0;34m(\u001b[0m\u001b[0my_true\u001b[0m\u001b[0;34m,\u001b[0m \u001b[0my_pred\u001b[0m\u001b[0;34m)\u001b[0m\u001b[0;34m\u001b[0m\u001b[0;34m\u001b[0m\u001b[0m\n\u001b[0m\u001b[1;32m     87\u001b[0m     \u001b[0mtype_true\u001b[0m \u001b[0;34m=\u001b[0m \u001b[0mtype_of_target\u001b[0m\u001b[0;34m(\u001b[0m\u001b[0my_true\u001b[0m\u001b[0;34m,\u001b[0m \u001b[0minput_name\u001b[0m\u001b[0;34m=\u001b[0m\u001b[0;34m\"y_true\"\u001b[0m\u001b[0;34m)\u001b[0m\u001b[0;34m\u001b[0m\u001b[0;34m\u001b[0m\u001b[0m\n\u001b[1;32m     88\u001b[0m     \u001b[0mtype_pred\u001b[0m \u001b[0;34m=\u001b[0m \u001b[0mtype_of_target\u001b[0m\u001b[0;34m(\u001b[0m\u001b[0my_pred\u001b[0m\u001b[0;34m,\u001b[0m \u001b[0minput_name\u001b[0m\u001b[0;34m=\u001b[0m\u001b[0;34m\"y_pred\"\u001b[0m\u001b[0;34m)\u001b[0m\u001b[0;34m\u001b[0m\u001b[0;34m\u001b[0m\u001b[0m\n",
            "\u001b[0;32m/usr/local/lib/python3.10/dist-packages/sklearn/utils/validation.py\u001b[0m in \u001b[0;36mcheck_consistent_length\u001b[0;34m(*arrays)\u001b[0m\n\u001b[1;32m    395\u001b[0m     \u001b[0muniques\u001b[0m \u001b[0;34m=\u001b[0m \u001b[0mnp\u001b[0m\u001b[0;34m.\u001b[0m\u001b[0munique\u001b[0m\u001b[0;34m(\u001b[0m\u001b[0mlengths\u001b[0m\u001b[0;34m)\u001b[0m\u001b[0;34m\u001b[0m\u001b[0;34m\u001b[0m\u001b[0m\n\u001b[1;32m    396\u001b[0m     \u001b[0;32mif\u001b[0m \u001b[0mlen\u001b[0m\u001b[0;34m(\u001b[0m\u001b[0muniques\u001b[0m\u001b[0;34m)\u001b[0m \u001b[0;34m>\u001b[0m \u001b[0;36m1\u001b[0m\u001b[0;34m:\u001b[0m\u001b[0;34m\u001b[0m\u001b[0;34m\u001b[0m\u001b[0m\n\u001b[0;32m--> 397\u001b[0;31m         raise ValueError(\n\u001b[0m\u001b[1;32m    398\u001b[0m             \u001b[0;34m\"Found input variables with inconsistent numbers of samples: %r\"\u001b[0m\u001b[0;34m\u001b[0m\u001b[0;34m\u001b[0m\u001b[0m\n\u001b[1;32m    399\u001b[0m             \u001b[0;34m%\u001b[0m \u001b[0;34m[\u001b[0m\u001b[0mint\u001b[0m\u001b[0;34m(\u001b[0m\u001b[0ml\u001b[0m\u001b[0;34m)\u001b[0m \u001b[0;32mfor\u001b[0m \u001b[0ml\u001b[0m \u001b[0;32min\u001b[0m \u001b[0mlengths\u001b[0m\u001b[0;34m]\u001b[0m\u001b[0;34m\u001b[0m\u001b[0;34m\u001b[0m\u001b[0m\n",
            "\u001b[0;31mValueError\u001b[0m: Found input variables with inconsistent numbers of samples: [11470, 2880]"
          ]
        }
      ]
    },
    {
      "cell_type": "code",
      "metadata": {
        "id": "s1aau453nUi-",
        "outputId": "8a4adc3a-9d75-4aba-fa83-087078d911fd",
        "colab": {
          "base_uri": "https://localhost:8080/",
          "height": 694
        }
      },
      "source": [
        " def plot_stock_trend_lstm(train, test):\n",
        "    fig = plt.figure(figsize = (20,10))\n",
        "    plt.plot(train['Close Time'], train['Close'], label = 'Train Closing Price')\n",
        "    plt.plot(test['Close Time'], test['Close'], label = 'Test Closing Price')\n",
        "    plt.plot(test['Close Time'], test['Predictions_lstm'], label = 'Predicted Closing Price')\n",
        "    plt.title('LSTM Model')\n",
        "    plt.xlabel('Date')\n",
        "    plt.ylabel('Stock Price ($)')\n",
        "    plt.legend(loc=\"upper left\")\n",
        "\n",
        "plot_stock_trend_lstm(train, test)"
      ],
      "execution_count": 28,
      "outputs": [
        {
          "output_type": "display_data",
          "data": {
            "text/plain": [
              "<Figure size 2000x1000 with 1 Axes>"
            ],
            "image/png": "[encoded data removed]"
          },
          "metadata": {}
        }
      ]
    },
    {
      "cell_type": "code",
      "metadata": {
        "id": "c60kJfL7nUqb",
        "outputId": "8122fde3-5940-4045-9398-feb8dc2b93ab",
        "colab": {
          "base_uri": "https://localhost:8080/"
        }
      },
      "source": [
        "predicted_price"
      ],
      "execution_count": 29,
      "outputs": [
        {
          "output_type": "execute_result",
          "data": {
            "text/plain": [
              "array([[30292.732],\n",
              "       [30293.771],\n",
              "       [30293.973],\n",
              "       ...,\n",
              "       [29813.135],\n",
              "       [29816.906],\n",
              "       [29817.072]], dtype=float32)"
            ]
          },
          "metadata": {},
          "execution_count": 29
        }
      ]
    },
    {
      "cell_type": "code",
      "metadata": {
        "colab": {
          "base_uri": "https://localhost:8080/"
        },
        "id": "lDveUvhLnaY0",
        "outputId": "633ed7b7-7bb8-4769-807f-cf8d90d96ee0"
      },
      "source": [
        "predicted_price[0] # first value in the predicted price array"
      ],
      "execution_count": 30,
      "outputs": [
        {
          "output_type": "execute_result",
          "data": {
            "text/plain": [
              "array([30292.732], dtype=float32)"
            ]
          },
          "metadata": {},
          "execution_count": 30
        }
      ]
    },
    {
      "cell_type": "code",
      "metadata": {
        "colab": {
          "base_uri": "https://localhost:8080/"
        },
        "id": "RmAqtPGdtkiW",
        "outputId": "616f5efd-f6a3-4d5d-9c08-c4c2d0ec1b26"
      },
      "source": [
        "predicted_price[-1] # last value in the predicted price array"
      ],
      "execution_count": 31,
      "outputs": [
        {
          "output_type": "execute_result",
          "data": {
            "text/plain": [
              "array([29817.072], dtype=float32)"
            ]
          },
          "metadata": {},
          "execution_count": 31
        }
      ]
    },
    {
      "cell_type": "code",
      "metadata": {
        "id": "rRQIoB1DtzCm"
      },
      "source": [],
      "execution_count": 31,
      "outputs": []
    }
  ]
}